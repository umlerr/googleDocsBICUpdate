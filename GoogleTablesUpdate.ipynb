{
 "cells": [
  {
   "cell_type": "code",
   "execution_count": 28,
   "metadata": {
    "collapsed": true
   },
   "outputs": [],
   "source": [
    "import pandas as pd\n",
    "from gspread import Cell\n",
    "from openpyxl import load_workbook\n",
    "import gspread\n",
    "from oauth2client.service_account import ServiceAccountCredentials\n",
    "from datetime import datetime\n",
    "from gspread_formatting import *\n",
    "from google.oauth2 import service_account\n",
    "from googleapiclient.discovery import build\n"
   ]
  },
  {
   "cell_type": "code",
   "execution_count": 29,
   "outputs": [],
   "source": [
    "# Указать путь к файлу XLS\n",
    "file_path_out = 'F:/Work/OutLookConnection/move out 9.15-9.17.xlsx'\n",
    "file_path_in = 'F:/Work/OutLookConnection/MOVI IN 9.15-17.xlsx'\n",
    "\n",
    "# Прочитать файл XLS в DataFrame\n",
    "moveOut = pd.read_excel(file_path_out)\n",
    "moveIn = pd.read_excel(file_path_in)\n",
    "\n",
    "mode = 2"
   ],
   "metadata": {
    "collapsed": false
   }
  },
  {
   "cell_type": "code",
   "execution_count": 30,
   "outputs": [
    {
     "name": "stdout",
     "output_type": "stream",
     "text": [
      "{'RXTU4540529': {'Size尺寸': 40.0, 'Type箱型': 'HC', 'Arrive in date     进场日期': '15.09.2023', 'State  进场箱况': 'DM', 'Truck   进场车号': nan, 'Depot Name堆场名称': 'Shanghai, China', 'Current State      目前箱况': nan, 'Manufacture Date  制造日期': nan}, 'RXTU4541269': {'Size尺寸': 40.0, 'Type箱型': 'HC', 'Arrive in date     进场日期': '15.09.2023', 'State  进场箱况': 'DM', 'Truck   进场车号': nan, 'Depot Name堆场名称': 'Shanghai, China', 'Current State      目前箱况': nan, 'Manufacture Date  制造日期': nan}, 'RXTU4541309': {'Size尺寸': 40.0, 'Type箱型': 'HC', 'Arrive in date     进场日期': '15.09.2023', 'State  进场箱况': 'DM', 'Truck   进场车号': nan, 'Depot Name堆场名称': 'Shanghai, China', 'Current State      目前箱况': nan, 'Manufacture Date  制造日期': nan}, 'RXTU4541485': {'Size尺寸': 40.0, 'Type箱型': 'HC', 'Arrive in date     进场日期': '15.09.2023', 'State  进场箱况': 'DM', 'Truck   进场车号': nan, 'Depot Name堆场名称': 'Shanghai, China', 'Current State      目前箱况': nan, 'Manufacture Date  制造日期': nan}, 'RXTU4548094': {'Size尺寸': 40.0, 'Type箱型': 'HC', 'Arrive in date     进场日期': '15.09.2023', 'State  进场箱况': 'AV', 'Truck   进场车号': nan, 'Depot Name堆场名称': 'Shanghai, China', 'Current State      目前箱况': nan, 'Manufacture Date  制造日期': nan}, 'RXTU4544083': {'Size尺寸': 40.0, 'Type箱型': 'HC', 'Arrive in date     进场日期': '15.09.2023', 'State  进场箱况': 'DM', 'Truck   进场车号': nan, 'Depot Name堆场名称': 'Shanghai, China', 'Current State      目前箱况': nan, 'Manufacture Date  制造日期': nan}, 'RXTU4541870': {'Size尺寸': 40.0, 'Type箱型': 'HC', 'Arrive in date     进场日期': '15.09.2023', 'State  进场箱况': 'AV', 'Truck   进场车号': nan, 'Depot Name堆场名称': 'Shanghai, China', 'Current State      目前箱况': nan, 'Manufacture Date  制造日期': nan}, 'RXTU4547987': {'Size尺寸': 40.0, 'Type箱型': 'HC', 'Arrive in date     进场日期': '15.09.2023', 'State  进场箱况': 'AV', 'Truck   进场车号': nan, 'Depot Name堆场名称': 'Shanghai, China', 'Current State      目前箱况': nan, 'Manufacture Date  制造日期': nan}, 'RXTU4544946': {'Size尺寸': 40.0, 'Type箱型': 'HC', 'Arrive in date     进场日期': '15.09.2023', 'State  进场箱况': 'AV', 'Truck   进场车号': nan, 'Depot Name堆场名称': 'Shanghai, China', 'Current State      目前箱况': nan, 'Manufacture Date  制造日期': nan}, 'RXTU4544904': {'Size尺寸': 40.0, 'Type箱型': 'HC', 'Arrive in date     进场日期': '16.09.2023', 'State  进场箱况': 'DM', 'Truck   进场车号': nan, 'Depot Name堆场名称': 'Shanghai, China', 'Current State      目前箱况': nan, 'Manufacture Date  制造日期': nan}}\n"
     ]
    }
   ],
   "source": [
    "def get_objects(mode):\n",
    "    # Создать словарь для хранения информации об объектах\n",
    "    objects = {}\n",
    "    if mode == 1:\n",
    "        # Пройтись по каждой строке DataFrame и сохранить информацию об объектах в словарь objects\n",
    "        for _, row in moveOut.iterrows():\n",
    "            object_no = row['container No']\n",
    "            # Проверить, содержит ли номер контейнера \"RX\", если нет, то пропустить этот контейнер\n",
    "            if not isinstance(object_no, str) or \"RX\" not in object_no:\n",
    "                continue\n",
    "            # Считать значение столбца 'Out Date' как Timestamp\n",
    "            out_date = row['Out Date']\n",
    "            # Преобразовать значение Timestamp в строку формата 'дд-мм-гггг'\n",
    "            formatted_out_date = datetime.strftime(out_date, \"%d.%m.%Y\")\n",
    "\n",
    "            object_info = {\n",
    "                \"size\": row['size'],\n",
    "                \"type\": row['type'],\n",
    "                \"stock\": row['stock'],\n",
    "                \"Out Date\": formatted_out_date,\n",
    "                \"Owner\": row['Owner'],\n",
    "                \"Direction\": row['Direction'],\n",
    "                \"Release order\": row['Release order'],\n",
    "                \"Storage Days\": row['Storage Days']\n",
    "            }\n",
    "            objects[object_no] = object_info\n",
    "        return objects\n",
    "    if mode == 2:\n",
    "        # Пройтись по каждой строке DataFrame и сохранить информацию об объектах в словарь objects\n",
    "        for _, row in moveIn.iterrows():\n",
    "            object_no = row['container No 箱号']\n",
    "            # Проверить, содержит ли номер контейнера \"RX\", если нет, то пропустить этот контейнер\n",
    "            if not isinstance(object_no, str) or \"RX\" not in object_no:\n",
    "                continue\n",
    "            # Считать значение столбца 'In Date' как Timestamp\n",
    "            out_date = row['Arrive in date     进场日期']\n",
    "            # Преобразовать значение Timestamp в строку формата 'дд-мм-гггг'\n",
    "            formatted_out_date = datetime.strftime(out_date, \"%d.%m.%Y\")\n",
    "\n",
    "            object_info = {\n",
    "                \"Size尺寸\": row['Size尺寸'],\n",
    "                \"Type箱型\": row['Type箱型'],\n",
    "                \"Arrive in date     进场日期\": formatted_out_date,\n",
    "                \"State  进场箱况\": row['State  进场箱况'],\n",
    "                \"Truck   进场车号\": row['Truck   进场车号'],\n",
    "                \"Depot Name堆场名称\": row['Depot Name堆场名称'],\n",
    "                \"Current State      目前箱况\": row['Current State      目前箱况'],\n",
    "                \"Manufacture Date  制造日期\": row['Manufacture Date  制造日期'],\n",
    "            }\n",
    "            objects[object_no] = object_info\n",
    "            for object_no, object_info in objects.items():\n",
    "                if \"Depot Name堆场名称\" in object_info:\n",
    "                    object_info[\"Depot Name堆场名称\"] = object_info[\"Depot Name堆场名称\"].replace(\"Shanghai Wanguang\", \"Shanghai, China\")\n",
    "        return objects\n",
    "\n",
    "# Получить все объекты и сохранить их в переменную\n",
    "all_objects = get_objects(mode)\n",
    "print(all_objects)"
   ],
   "metadata": {
    "collapsed": false
   }
  },
  {
   "cell_type": "code",
   "execution_count": 31,
   "outputs": [],
   "source": [
    "def get_object_info(container_no, objects):\n",
    "    # Проверить, есть ли информация о контейнере с заданным номером в словаре objects\n",
    "    if container_no in objects:\n",
    "        return objects[container_no]\n",
    "\n",
    "    return None"
   ],
   "metadata": {
    "collapsed": false
   }
  },
  {
   "cell_type": "code",
   "execution_count": 32,
   "outputs": [
    {
     "name": "stdout",
     "output_type": "stream",
     "text": [
      "Информация о контейнере RXTU4540529:\n",
      "{'Size尺寸': 40.0, 'Type箱型': 'HC', 'Arrive in date     进场日期': '15.09.2023', 'State  进场箱况': 'DM', 'Truck   进场车号': nan, 'Depot Name堆场名称': 'Shanghai, China', 'Current State      目前箱况': nan, 'Manufacture Date  制造日期': nan}\n"
     ]
    }
   ],
   "source": [
    "# Пример использования функции get_object_info()\n",
    "container_no = 'RXTU4540529'\n",
    "info = get_object_info(container_no, all_objects)\n",
    "\n",
    "if info:\n",
    "    print(f\"Информация о контейнере {container_no}:\")\n",
    "    print(info)\n",
    "else:\n",
    "    print(f\"Контейнер с номером {container_no} не найден.\")\n"
   ],
   "metadata": {
    "collapsed": false
   }
  },
  {
   "cell_type": "code",
   "execution_count": 33,
   "outputs": [],
   "source": [
    "# Путь к файлу JSON с ключом для доступа к Google API\n",
    "json_keyfile = 'F:/Work/OutLookConnection/service_account_key.json'\n",
    "# ID таблицы Google\n",
    "spreadsheet_id = '1ubYPsCTwi7cn8r7tUs7zzOUrOoM_2RvDRNDo0Jvu_-I'\n",
    "# Имя листа в таблице\n",
    "sheet_name = 'ПО BIC'\n",
    "\n",
    "# Авторизация с помощью ключа сервисного аккаунта\n",
    "scope = ['https://spreadsheets.google.com/feeds', 'https://www.googleapis.com/auth/drive']\n",
    "credentials = ServiceAccountCredentials.from_json_keyfile_name(json_keyfile, scope)\n",
    "client = gspread.authorize(credentials)\n",
    "\n",
    "# Открытие таблицы\n",
    "spreadsheet = client.open_by_key(spreadsheet_id)\n",
    "# Выбор листа\n",
    "sheet = spreadsheet.worksheet(sheet_name)"
   ],
   "metadata": {
    "collapsed": false
   }
  },
  {
   "cell_type": "code",
   "execution_count": 34,
   "outputs": [
    {
     "name": "stdout",
     "output_type": "stream",
     "text": [
      "101\n"
     ]
    }
   ],
   "source": [
    "# Функция для поиска номера строки по номеру контейнера\n",
    "def find_row_number(container_no):\n",
    "    cell = sheet.find(container_no)\n",
    "    return cell.row if cell else None\n",
    "print(find_row_number(container_no))"
   ],
   "metadata": {
    "collapsed": false
   }
  },
  {
   "cell_type": "code",
   "execution_count": 35,
   "outputs": [],
   "source": [
    "def container_filler(all_objects):\n",
    "    cells_to_update = []\n",
    "    cells_to_format = []\n",
    "\n",
    "    # Получение всех значений таблицы\n",
    "    all_values = sheet.get_all_values()\n",
    "\n",
    "    if mode == 1:\n",
    "        for container_no, object_info in all_objects.items():\n",
    "            row_number = find_row_number(container_no)\n",
    "            if row_number:\n",
    "                if all_values[row_number - 1][15 - 1] == '':\n",
    "                    cells_to_update.append(Cell(row=row_number, col=15, value=object_info[\"Out Date\"]))\n",
    "                    cells_to_format.append(f'O{row_number}')\n",
    "                    print(f\"Ячейка Даты отправления в строке {row_number} были успешно заполнены (2 круг).\")\n",
    "                elif all_values[row_number - 1][25 - 1] == '':\n",
    "                    cells_to_update.append(Cell(row=row_number, col=25, value=object_info[\"Out Date\"]))\n",
    "                    cells_to_format.append(f'Y{row_number}')\n",
    "                    print(f\"Ячейка Даты отправления в строке {row_number} были успешно заполнены (3 круг).\")\n",
    "                elif all_values[row_number - 1][35 - 1] == '':\n",
    "                    cells_to_update.append(Cell(row=row_number, col=35, value=object_info[\"Out Date\"]))\n",
    "                    cells_to_format.append(f'AI{row_number}')\n",
    "                    print(f\"Ячейка Даты отправления в строке {row_number} были успешно заполнены (4 круг).\")\n",
    "                else:\n",
    "                    print(f\"Нет подходящей строки для контейнера {container_no} или ячейка даты уже заполнена.\")\n",
    "\n",
    "                if all_values[row_number - 1][16 - 1] == '':\n",
    "                    cells_to_update.append(Cell(row=row_number, col=16, value=object_info[\"Direction\"]))\n",
    "                    cells_to_format.append(f'P{row_number}')\n",
    "                    print(f\"Ячейка Места отправления в строке {row_number} были успешно заполнены (2 круг).\")\n",
    "                elif all_values[row_number - 1][26 - 1] == '':\n",
    "                    cells_to_update.append(Cell(row=row_number, col=26, value=object_info[\"Direction\"]))\n",
    "                    cells_to_format.append(f'Z{row_number}')\n",
    "                    print(f\"Ячейка Места отправления в строке {row_number} были успешно заполнены (3 круг).\")\n",
    "                elif all_values[row_number - 1][36 - 1] == '':\n",
    "                    cells_to_update.append(Cell(row=row_number, col=36, value=object_info[\"Direction\"]))\n",
    "                    cells_to_format.append(f'AJ{row_number}')\n",
    "                    print(f\"Ячейка Места отправления в строке {row_number} были успешно заполнены (4 круг).\")\n",
    "                print(f\"Нет подходящей строки для контейнера {container_no} или ячейка отправления уже заполнена.\")\n",
    "\n",
    "        if len(cells_to_update) > 0:\n",
    "            sheet.update_cells(cells_to_update)\n",
    "\n",
    "        for cell in cells_to_format:\n",
    "            format_cell_range(sheet, cell, CellFormat(backgroundColor=Color(4, 27, 50)))\n",
    "\n",
    "    if mode == 2:\n",
    "        for container_no, object_info in all_objects.items():\n",
    "            row_number = find_row_number(container_no)\n",
    "            if row_number:\n",
    "                if all_values[row_number - 1][23 - 1] == '':\n",
    "                    cells_to_update.append(Cell(row=row_number, col=23, value=object_info[\"Arrive in date     进场日期\"]))\n",
    "                    cells_to_format.append(f'W{row_number}')\n",
    "                    print(f\"Ячейка Даты прибытия в строке {row_number} были успешно заполнены (3 круг).\")\n",
    "                elif all_values[row_number - 1][33 - 1] == '':\n",
    "                    cells_to_update.append(Cell(row=row_number, col=33, value=object_info[\"Arrive in date     进场日期\"]))\n",
    "                    cells_to_format.append(f'AG{row_number}')\n",
    "                    print(f\"Ячейка Даты прибытия в строке {row_number} были успешно заполнены (4 круг).\")\n",
    "                else:\n",
    "                    print(f\"Нет подходящей строки для контейнера {container_no} или ячейка даты уже заполнена.\")\n",
    "\n",
    "                if all_values[row_number - 1][24 - 1] == '':\n",
    "                    cells_to_update.append(Cell(row=row_number, col=24, value=object_info[\"Depot Name堆场名称\"]))\n",
    "                    cells_to_format.append(f'X{row_number}')\n",
    "                    print(f\"Ячейка Места прибытия в строке {row_number} были успешно заполнены (3 круг).\")\n",
    "                elif all_values[row_number - 1][34 - 1] == '':\n",
    "                    cells_to_update.append(Cell(row=row_number, col=34, value=object_info[\"Depot Name堆场名称\"]))\n",
    "                    cells_to_format.append(f'AH{row_number}')\n",
    "                    print(f\"Ячейка Места прибытия в строке {row_number} были успешно заполнены (4 круг).\")\n",
    "                print(f\"Нет подходящей строки для контейнера {container_no} или ячейка отправления уже заполнена.\")\n",
    "\n",
    "        if len(cells_to_update) > 0:\n",
    "            sheet.update_cells(cells_to_update)\n",
    "\n",
    "        for cell in cells_to_format:\n",
    "            format_cell_range(sheet, cell, CellFormat(backgroundColor=Color(4, 27, 50)))"
   ],
   "metadata": {
    "collapsed": false
   }
  },
  {
   "cell_type": "code",
   "execution_count": 36,
   "outputs": [
    {
     "name": "stdout",
     "output_type": "stream",
     "text": [
      "Нет подходящей строки для контейнера RXTU4540529 или ячейка даты уже заполнена.\n",
      "Ячейка Места прибытия в строке 101 были успешно заполнены (4 круг).\n",
      "Нет подходящей строки для контейнера RXTU4540529 или ячейка отправления уже заполнена.\n",
      "Нет подходящей строки для контейнера RXTU4541269 или ячейка даты уже заполнена.\n",
      "Ячейка Места прибытия в строке 60 были успешно заполнены (4 круг).\n",
      "Нет подходящей строки для контейнера RXTU4541269 или ячейка отправления уже заполнена.\n",
      "Нет подходящей строки для контейнера RXTU4541309 или ячейка даты уже заполнена.\n",
      "Ячейка Места прибытия в строке 5 были успешно заполнены (4 круг).\n",
      "Нет подходящей строки для контейнера RXTU4541309 или ячейка отправления уже заполнена.\n",
      "Нет подходящей строки для контейнера RXTU4541485 или ячейка даты уже заполнена.\n",
      "Ячейка Места прибытия в строке 136 были успешно заполнены (4 круг).\n",
      "Нет подходящей строки для контейнера RXTU4541485 или ячейка отправления уже заполнена.\n",
      "Нет подходящей строки для контейнера RXTU4548094 или ячейка даты уже заполнена.\n",
      "Ячейка Места прибытия в строке 287 были успешно заполнены (4 круг).\n",
      "Нет подходящей строки для контейнера RXTU4548094 или ячейка отправления уже заполнена.\n",
      "Нет подходящей строки для контейнера RXTU4544083 или ячейка даты уже заполнена.\n",
      "Ячейка Места прибытия в строке 168 были успешно заполнены (4 круг).\n",
      "Нет подходящей строки для контейнера RXTU4544083 или ячейка отправления уже заполнена.\n",
      "Нет подходящей строки для контейнера RXTU4541870 или ячейка даты уже заполнена.\n",
      "Ячейка Места прибытия в строке 133 были успешно заполнены (4 круг).\n",
      "Нет подходящей строки для контейнера RXTU4541870 или ячейка отправления уже заполнена.\n",
      "Нет подходящей строки для контейнера RXTU4547987 или ячейка даты уже заполнена.\n",
      "Ячейка Места прибытия в строке 282 были успешно заполнены (4 круг).\n",
      "Нет подходящей строки для контейнера RXTU4547987 или ячейка отправления уже заполнена.\n",
      "Нет подходящей строки для контейнера RXTU4544946 или ячейка даты уже заполнена.\n",
      "Ячейка Места прибытия в строке 179 были успешно заполнены (4 круг).\n",
      "Нет подходящей строки для контейнера RXTU4544946 или ячейка отправления уже заполнена.\n",
      "Нет подходящей строки для контейнера RXTU4544904 или ячейка даты уже заполнена.\n",
      "Ячейка Места прибытия в строке 178 были успешно заполнены (4 круг).\n",
      "Нет подходящей строки для контейнера RXTU4544904 или ячейка отправления уже заполнена.\n"
     ]
    }
   ],
   "source": [
    "container_filler(all_objects)"
   ],
   "metadata": {
    "collapsed": false
   }
  }
 ],
 "metadata": {
  "kernelspec": {
   "display_name": "Python 3",
   "language": "python",
   "name": "python3"
  },
  "language_info": {
   "codemirror_mode": {
    "name": "ipython",
    "version": 2
   },
   "file_extension": ".py",
   "mimetype": "text/x-python",
   "name": "python",
   "nbconvert_exporter": "python",
   "pygments_lexer": "ipython2",
   "version": "2.7.6"
  }
 },
 "nbformat": 4,
 "nbformat_minor": 0
}
